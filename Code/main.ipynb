{
 "cells": [
  {
   "cell_type": "code",
   "metadata": {
    "cell_id": "db70bb720c9d46838495e3ab7d1af286",
    "tags": [],
    "deepnote_to_be_reexecuted": false,
    "source_hash": "f5235af3",
    "execution_start": 1651066876945,
    "execution_millis": 818,
    "deepnote_cell_type": "code",
    "deepnote_cell_height": 153
   },
   "source": "import pandas as pd\nimport numpy as np\nimport matplotlib.pyplot as plt\nfrom tqdm import tqdm\nimport pickle",
   "execution_count": null,
   "outputs": []
  },
  {
   "cell_type": "markdown",
   "source": "napady\n===\nVykreslenie df(xk) pre konstantny krok tak ze zobrazis # iteraciu na x osi a df(ci co) na y a bude pekne vidiet kt konverguju a kt nie ",
   "metadata": {
    "cell_id": "e3849551875b4f66a062575ad0b1535c",
    "tags": [],
    "deepnote_cell_type": "markdown",
    "deepnote_cell_height": 142.796875
   }
  },
  {
   "cell_type": "code",
   "metadata": {
    "tags": [],
    "cell_id": "f68c65e7-ed6a-4985-8ebe-a8ce698f421a",
    "deepnote_to_be_reexecuted": false,
    "source_hash": "d0bafde5",
    "execution_start": 1651066877776,
    "execution_millis": 191,
    "owner_user_id": "2ffdade2-371b-4347-b173-906a797ea273",
    "deepnote_cell_type": "code",
    "deepnote_cell_height": 171
   },
   "source": "train_data = 'https://github.com/adam-213/MVO2022/raw/main/Data/HDP.txt'\ntest_data = 'https://github.com/adam-213/MVO2022/raw/main/Data/HDP_test.txt'\n\ntrain = pd.read_csv(train_data)\ntest = pd.read_csv(test_data)\n#M1 == x1, P == x2 , Y == y",
   "execution_count": null,
   "outputs": []
  },
  {
   "cell_type": "code",
   "metadata": {
    "cell_id": "7756e93a980a41e4a9eb2555d6be1d25",
    "tags": [],
    "deepnote_to_be_reexecuted": false,
    "source_hash": "d5dd8f9b",
    "execution_start": 1651066877973,
    "execution_millis": 16,
    "deepnote_cell_type": "code",
    "deepnote_cell_height": 225
   },
   "source": "n = int(1e+7)\n# 7 == 7min, 8 == 1h10m, 9 == 13h, 10 == 125h\neps = 1e-2\nc = 1e-7\npwd = !pwd\nroot = \"/\".join(pwd[0].split('/')[:-1])\n\ngenerate = True # try startpoints and other parameters and save results to pickle files\n#turn off to just load them",
   "execution_count": null,
   "outputs": []
  },
  {
   "cell_type": "code",
   "metadata": {
    "cell_id": "7ca2ab9a6fdf4424b99c4b75d025953a",
    "tags": [],
    "deepnote_to_be_reexecuted": false,
    "source_hash": "7e656a34",
    "execution_start": 1651066877993,
    "execution_millis": 9,
    "is_output_hidden": true,
    "deepnote_cell_type": "code",
    "deepnote_cell_height": 183.796875
   },
   "source": "train_x = train.iloc[:,[2,3]].to_numpy() # x1,x2 -> np.array\nX = np.hstack([np.ones([train.shape[0],1]),train_x]) # add column vector to the front of the matrix\nb = np.array([1,1,1]) #default coefficients for vector of variables beta. \ny = train.iloc[:,1].to_numpy() #actual data from real world \n",
   "execution_count": null,
   "outputs": []
  },
  {
   "cell_type": "code",
   "metadata": {
    "cell_id": "22058c4ef5a846b887ab7b6969823a86",
    "tags": [],
    "deepnote_to_be_reexecuted": false,
    "source_hash": "4a64e8cc",
    "execution_start": 1651066878009,
    "execution_millis": 1,
    "deepnote_cell_type": "code",
    "deepnote_cell_height": 261
   },
   "source": "def mns(b):\n    \"\"\"L2_norm^2\"\"\"\n    return b.T@X.T@X@b -2*y.T@X@b + y.T@y \n\ndef df_mns(b):\n    \"\"\"derivative of L2_norm^2\"\"\"\n    return 2*(X.T@X@b) - 2*(X.T@y)\n\ndef df2_mns(b):\n    return 2*(X.T@X) \n",
   "execution_count": null,
   "outputs": []
  },
  {
   "cell_type": "code",
   "metadata": {
    "cell_id": "2b79cf23ef434425af5ecbf81004b7a7",
    "tags": [],
    "deepnote_to_be_reexecuted": false,
    "source_hash": "ec51e685",
    "execution_start": 1651066878012,
    "execution_millis": 28,
    "deepnote_cell_type": "code",
    "deepnote_cell_height": 369
   },
   "source": "def grad_const(f, df, x0, eps=1e-2, n=1000000, c=1e-5):\n    \"\"\"Gradient method with constant step\"\"\"\n    xk = x0\n    i = 0 \n    \n    for i in tqdm(range(n)):\n        if np.isnan(xk[0]):\n            return None,None\n        if i != 0 and (xk == x_pred).all():\n            return None,None\n        if np.linalg.norm(df(xk)) < eps:\n            break\n        x_pred = xk \n        sk = -df(xk)\n        xk = xk + (c * sk) \n\n    return xk, i",
   "execution_count": null,
   "outputs": []
  },
  {
   "cell_type": "code",
   "metadata": {
    "cell_id": "3ca8e49fad90407894ecfbee4c96fc32",
    "tags": [],
    "deepnote_to_be_reexecuted": false,
    "source_hash": "ea535135",
    "execution_start": 1651066878040,
    "execution_millis": 0,
    "deepnote_cell_type": "code",
    "deepnote_cell_height": 405
   },
   "source": "def grad_backtracking(f, df, x0, eps=1e-2, n=1000000, alpha=0.1, delta=0.5, c=1):\n    \"\"\"semi-optimal step gradient method with backtracking for step length\"\"\"\n    xk = x0\n    i = 0\n    for i in tqdm(range(n)):\n        if np.isnan(xk[0]):\n            return None,None\n        if i != 0 and (xk == x_pred).all():\n            return None,None\n        if np.linalg.norm(df(xk)) < eps:\n            break\n        s = -df(xk)\n        while np.linalg.norm(f(xk + c * s)) > np.linalg.norm(f(xk) + c * alpha * s.T @ df(xk)):\n            c = delta * c\n        x_pred = xk    \n        xk = xk + c * s\n        \n\n    return xk,i",
   "execution_count": null,
   "outputs": []
  },
  {
   "cell_type": "code",
   "metadata": {
    "cell_id": "845cfc6856a34c1a9f9c2cbebda4a5a6",
    "tags": [],
    "deepnote_to_be_reexecuted": false,
    "source_hash": "188b202f",
    "execution_start": 1651066878041,
    "execution_millis": 0,
    "deepnote_cell_type": "code",
    "deepnote_cell_height": 495
   },
   "source": "def cca_opt_basil(f, df, x0, eps=1e-8, n=10000):\n    \"\"\"Barzilai & Borwein method of semi-optimal step based on https://pages.cs.wisc.edu/~swright/726/handouts/barzilai-borwein.pdf\"\"\"\n    x_k = x0.copy()\n    x_k_1 = eps\n    g_k_1 = eps\n    i = 0\n    for i in tqdm(range(n)):\n        if np.isnan(xk[0]):\n            return None,None\n        if i != 0 and (x_k == x_pred).all():\n            return None,None\n        if np.linalg.norm(df(x_k)) < eps:\n            break\n        g_k = df(x_k)\n        delta_x = x_k - x_k_1\n        delta_g = g_k - g_k_1\n        alpha_k = np.dot(delta_x, delta_x) / np.dot(delta_x, delta_g)\n        # s = alpha_k * np.eye(x_k.shape[0])\n        x_k_1 = x_k\n        g_k_1 = g_k\n        x_pred = x_k \n        x_k = x_k - alpha_k * g_k\n\n    return x_k, i + 1",
   "execution_count": null,
   "outputs": []
  },
  {
   "cell_type": "code",
   "metadata": {
    "cell_id": "7e347bcf0e4744fe98d7d31d8e5480b2",
    "tags": [],
    "deepnote_to_be_reexecuted": false,
    "source_hash": "bd39a7b1",
    "execution_start": 1651066878047,
    "execution_millis": 17,
    "deepnote_cell_type": "code",
    "deepnote_cell_height": 783
   },
   "source": "gold = 1 / (((np.sqrt(5) + 1)) / 2)\ndef gold_section(f, df, a0, b0, eps, n):\n    \"\"\"Golden section search for cauchy's method to determine the optimal step\"\"\"\n    a, b = a0, b0\n    c = gold * a + (1 - gold) * b\n    d = (1 - gold) * a + gold * b\n    for i in range(n):\n        if f(c) < f(d):\n            b = d\n            d = c\n            c = gold * a + (1 - gold) * b\n\n        else:\n            a = c\n            c = d\n            d = (1 - gold) * a + gold * b\n        if b - a < eps:\n            break\n    if a == 0:\n        return b\n    return a\n\ndef cauchy(f, df, x0, eps=1e-8, n=10000):\n    \"\"\"Cauchy's gradient method with optimal step based on golden-section search\"\"\"\n    xk = x0.copy()\n    i = 0\n    for i in range(n):\n        if np.isnan(xk[0]):\n            return None,None\n        if i != 0 and (xk == x_pred).all():\n            return None,None\n        if np.linalg.norm(df(xk)) < eps:\n            break\n        s = -df(xk)\n        g = lambda l: f(xk + l * s)\n        c = gold_section(g, None, 0, 1, eps, 1000)\n        x_pred = xk\n        xk = xk + c * s\n        # print(s)\n    return xk, i + 1",
   "execution_count": null,
   "outputs": []
  },
  {
   "cell_type": "code",
   "metadata": {
    "cell_id": "476b5d533562417e845f083cb05a0333",
    "tags": [],
    "deepnote_to_be_reexecuted": false,
    "source_hash": "462d328e",
    "execution_start": 1651066878078,
    "execution_millis": 6973520,
    "output_cleared": true,
    "deepnote_cell_type": "code",
    "deepnote_cell_height": 477
   },
   "source": "#Experimenting with step lengths and start positions on gradient method with constant step\n#Writing serialized results to pickle file - can be read by pickle.load(<file>)\n#Because this takes a long time to run ~1h for each block\n\n#Constant step\nif generate:\n    cs = [1e-1,1e-2,1e-3,1e-4,1e-5,1e-6,1e-7,1e-8,1e-9] #step length\n    bs = [[0,0,0],[1,1,1],[-1,-1,-1],[1,7,-7],[0.1,0.9,1.1]] #starting point\n\n    const_grad_results = []\n\n    for c in cs:\n        for b in bs:\n            b = np.array(b)\n            res = grad_const(mns,df_mns,b,eps,n,c)\n            const_grad_results.append((res,b,c))\n\n    with open(root + \"/Data/grad_const.pickle\",\"wb\") as c:\n        pickle.dump(const_grad_results,c)\nelse:\n    with open(root + \"/Data/grad_const.pickle\",'rb') as c:\n        const_grad_results = pickle.load(c)\n",
   "execution_count": null,
   "outputs": []
  },
  {
   "cell_type": "code",
   "metadata": {
    "cell_id": "64a0ee08fd954fa887cc95332f0f4011",
    "tags": [],
    "deepnote_to_be_reexecuted": false,
    "source_hash": "81f48e5c",
    "execution_start": 1651073851641,
    "execution_millis": 2487175,
    "output_cleared": true,
    "deepnote_cell_type": "code",
    "deepnote_cell_height": 459
   },
   "source": "#Semi-optimal step with backtracking\nif generate:\n    #TODO FILL\n    alphas = [0.1,0.51]\n    deltas = [0.2,0.9]\n    cs = [2,1,1e-1]\n    bs = [[0,0,0],[1,1,1],[-1,-1,-1],[0.1,0.9,1.1]]\n    backtracking_results = []\n\n    for alpha in alphas:\n        for delta in deltas:\n            for c in cs:\n                for b in bs:\n                    b = np.array(b)\n                    res = grad_backtracking(mns,df_mns,b,eps,n,alpha,delta,int(c))\n                    backtracking_results.append((res,b,c,alpha,delta))\n    \n    with open(root + \"/Data/backtracking.pickle\",\"wb\") as c:\n        pickle.dump(const_grad_results,c)\nelse:\n    with open(root + \"/Data/backtracking.pickle\",'rb') as c:\n        backtracking_results = pickle.load(c)",
   "execution_count": null,
   "outputs": []
  },
  {
   "cell_type": "code",
   "metadata": {
    "cell_id": "db1c7ad81a9c4227a1eb8a52831a68fd",
    "tags": [],
    "deepnote_to_be_reexecuted": true,
    "source_hash": "30924067",
    "execution_start": 1651065505137,
    "execution_millis": 94,
    "output_cleared": true,
    "deepnote_cell_type": "code",
    "deepnote_cell_height": 351
   },
   "source": "#Brasil semi-optimal step\nif generate:\n    #TODO FILL\n    bs = [[0,0,0],[1,1,1],[-1,-1,-1],[0.1,0.9,1.1]]\n    barbor_results = []\n    for b in bs:\n        b = np.array(b)\n        res = cca_opt_basil(mns,df_mns,b,eps,n)\n        barbor_results.append(res,b)\n\n    with open(root + \"/Data/BarBor.pickle\",'wb') as c:\n        pickle.dump(barbor_results,c)\n\nelse:\n    with open(root + \"/Data/BarBor.pickle\",'rb') as c:\n        barbor_results = pickle.load(c)",
   "execution_count": null,
   "outputs": []
  },
  {
   "cell_type": "code",
   "metadata": {
    "cell_id": "c7b99bddea3448b0b6c5b65518cef13c",
    "tags": [],
    "deepnote_to_be_reexecuted": true,
    "source_hash": "1e53d07f",
    "deepnote_cell_type": "code",
    "deepnote_cell_height": 351
   },
   "source": "#golden_cauchy\nif generate:\n    bs = [[0,0,0],[1,1,1],[-1,-1,-1],[1,7,-7],[0.1,0.9,1.1]]\n    cauchy_results = []\n    for b in bs:\n        b = np.array(b)\n        res = cauchy(mns,df_mns,b,eps,n)\n        cauchy_results.append(res,b)\n\n    with open(root + \"/Data/cauchy.pickle\",'wb') as c:\n        pickle.dump(cauchy_results,c))\n\nelse:\n    with open(root + \"/Data/cauchy.pickle\",'rb') as c:\n        cauchy_results = pickle.load(c)  \n",
   "execution_count": null,
   "outputs": []
  },
  {
   "cell_type": "code",
   "source": "",
   "metadata": {
    "cell_id": "f61a6593d03d4c9f8dde34799a2fd914",
    "tags": [],
    "owner_user_id": "67c147a0-292c-4ae3-b408-0758092ed500",
    "deepnote_cell_type": "code",
    "deepnote_cell_height": 66
   },
   "outputs": [],
   "execution_count": null
  },
  {
   "cell_type": "markdown",
   "source": "<a style='text-decoration:none;line-height:16px;display:flex;color:#5B5B62;padding:10px;justify-content:end;' href='https://deepnote.com?utm_source=created-in-deepnote-cell&projectId=c876a9c3-8d90-46cc-9c0c-98291fab2bc5' target=\"_blank\">\n<img alt='Created in deepnote.com' style='display:inline;max-height:16px;margin:0px;margin-right:7.5px;' src='data:image/svg+xml;base64,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' > </img>\nCreated in <span style='font-weight:600;margin-left:4px;'>Deepnote</span></a>",
   "metadata": {
    "tags": [],
    "created_in_deepnote_cell": true,
    "deepnote_cell_type": "markdown"
   }
  }
 ],
 "nbformat": 4,
 "nbformat_minor": 2,
 "metadata": {
  "orig_nbformat": 2,
  "deepnote": {},
  "deepnote_notebook_id": "a1b8f7fc-cf82-4b45-9ef7-3fc9442e4ff5",
  "deepnote_execution_queue": []
 }
}