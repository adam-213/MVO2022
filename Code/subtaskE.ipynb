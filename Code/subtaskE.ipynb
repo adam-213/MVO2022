{
 "cells": [
  {
   "cell_type": "code",
   "source": [
    "import pandas as pd\n",
    "import numpy as np\n",
    "import matplotlib.pyplot as plt\n",
    "from tqdm import tqdm\n",
    "import pickle"
   ],
   "metadata": {
    "cell_id": "a1468b52882a4268b063214de8cb2e9c",
    "tags": [],
    "deepnote_to_be_reexecuted": false,
    "source_hash": "f5235af3",
    "execution_start": 1651340731416,
    "execution_millis": 733,
    "deepnote_cell_type": "code",
    "deepnote_cell_height": 153,
    "pycharm": {
     "name": "#%%\n"
    }
   },
   "outputs": [],
   "execution_count": 1
  },
  {
   "cell_type": "code",
   "source": [
    "def mns(b):\n",
    "    \"\"\"L2_norm^2\"\"\"\n",
    "    return b.T@X.T@X@b -2*y.T@X@b + y.T@y\n",
    "\n",
    "def df_mns(b):\n",
    "    \"\"\"derivative of L2_norm^2\"\"\"\n",
    "    return 2*(X.T@X@b) - 2*(X.T@y)\n",
    "\n",
    "def df2_mns(b):\n",
    "    return 2*(X.T@X)"
   ],
   "metadata": {
    "cell_id": "4ca78f63b6024d77ba540a4490d9ed75",
    "tags": [],
    "deepnote_to_be_reexecuted": false,
    "source_hash": "1bc88169",
    "execution_start": 1651340732152,
    "execution_millis": 2,
    "deepnote_cell_type": "code",
    "deepnote_cell_height": 243,
    "pycharm": {
     "name": "#%%\n"
    }
   },
   "outputs": [],
   "execution_count": 2
  },
  {
   "cell_type": "code",
   "source": [
    "train_data = 'https://github.com/adam-213/MVO2022/raw/main/Data/HDP.txt'\n",
    "test_data = 'https://github.com/adam-213/MVO2022/raw/main/Data/HDP_test.txt'\n",
    "\n",
    "train = pd.read_csv(train_data)\n",
    "test = pd.read_csv(test_data)"
   ],
   "metadata": {
    "cell_id": "e19c27a51a0140718078a4f6ebd0946e",
    "tags": [],
    "deepnote_to_be_reexecuted": false,
    "source_hash": "602d4670",
    "execution_start": 1651340732157,
    "execution_millis": 195,
    "deepnote_cell_type": "code",
    "deepnote_cell_height": 153,
    "pycharm": {
     "name": "#%%\n"
    }
   },
   "outputs": [],
   "execution_count": 3
  },
  {
   "cell_type": "code",
   "source": [
    "def cca_opt_basil(f, df, x0, eps=1e-8, n=10000):\n",
    "    \"\"\"Barzilai & Borwein method of semi-optimal step based on https://pages.cs.wisc.edu/~swright/726/handouts/barzilai-borwein.pdf\"\"\"\n",
    "    x_k = x0.copy()\n",
    "    x_k_1 = np.array([eps,eps])\n",
    "    g_k_1 = np.array([eps,eps])\n",
    "    i = 0\n",
    "    for i in tqdm(range(n)):\n",
    "        # if np.isnan(x_k[0]):\n",
    "        #     return None,None\n",
    "        #if i != 0 and (x_k == x_pred).all():\n",
    "        #    return None,None\n",
    "        if np.linalg.norm(df(x_k)) < eps:\n",
    "            break\n",
    "        g_k = df(x_k)\n",
    "        delta_x = x_k - x_k_1\n",
    "        delta_g = g_k - g_k_1\n",
    "        alpha_k = np.dot(delta_x, delta_x) / np.dot(delta_x, delta_g)\n",
    "        # s = alpha_k * np.eye(x_k.shape[0])\n",
    "        x_k_1 = x_k\n",
    "        g_k_1 = g_k\n",
    "        x_pred = x_k\n",
    "        x_k = x_k - alpha_k * g_k\n",
    "\n",
    "    return x_k, i + 1"
   ],
   "metadata": {
    "cell_id": "65464c1765b7432a92165e6ecb8cd130",
    "tags": [],
    "deepnote_to_be_reexecuted": false,
    "source_hash": "8eadcbef",
    "execution_start": 1651340790056,
    "execution_millis": 2,
    "deepnote_cell_type": "code",
    "deepnote_cell_height": 495,
    "pycharm": {
     "name": "#%%\n"
    }
   },
   "outputs": [],
   "execution_count": 9
  },
  {
   "cell_type": "code",
   "metadata": {
    "tags": [],
    "cell_id": "92d3184e-ab78-4a93-9b16-a9bee70712e6",
    "deepnote_to_be_reexecuted": false,
    "source_hash": "a45017de",
    "execution_start": 1651340732368,
    "execution_millis": 83,
    "deepnote_cell_type": "code",
    "deepnote_cell_height": 613.125,
    "pycharm": {
     "name": "#%%\n"
    }
   },
   "source": [
    "beta = [-720.71013816,    3.20553725,   11.47092466]\n",
    "train_x = train.iloc[:, [2, 3]].to_numpy()\n",
    "y_c = train.iloc[:, 1].to_numpy()\n",
    "X = np.hstack([np.ones([train.shape[0], 1]), train_x])\n",
    "y = X@beta\n",
    "k = (y - y_c)\n",
    "u = k**2\n",
    "mean_y = np.mean(y_c)\n",
    "l = (mean_y - y_c)**2\n",
    "vys = 1 - (sum(u)/sum(l))\n",
    "print(f\"koecifient determinácie 1950-1980(MNS): {vys}\\n\")\n",
    "test_x = test.iloc[:, [2, 3]].to_numpy()\n",
    "y_t = test.iloc[:, 1].to_numpy()\n",
    "X_t = np.hstack([np.ones([test.shape[0], 1]), test_x])\n",
    "y_vys = X_t@beta\n",
    "print(f\"Predikovanie 1981-1983\\nReálne dáta(dané): {list(y_t)}\\nPredikovane cez priamku MNS: {list(y_vys)}\")\n",
    "print(f\"Absolutný rozdiel hodnôt: {list(abs(y_t - y_vys))}\")\n",
    "\n",
    "\n",
    "\n",
    "\n",
    "\n"
   ],
   "execution_count": 5,
   "outputs": [
    {
     "name": "stdout",
     "text": "koecifient determinácie 1950-1980(MNS): 0.9977692038451664\n\nPredikovanie 1981-1983\nReálne dáta(dané): [2875.8, 2918.0, 3009.3, 3027.9, 3026.0, 3061.2, 3080.1, 3109.6, 3173.8, 3267.0, 3346.6, 3431.7]\nPredikovane cez priamku MNS: [2808.0908850115993, 2869.6595903848, 2933.8070814719995, 2995.2832033903996, 3057.7741917867997, 3097.7919147132, 3140.0989491397995, 3216.1552599232, 3294.7038302391993, 3356.372888945, 3413.6516523873997, 3460.1385285486003]\nAbsolutný rozdiel hodnôt: [67.70911498840087, 48.34040961519986, 75.4929185280007, 32.61679660960044, 31.774191786799747, 36.59191471320037, 59.998949139799606, 106.55525992320008, 120.90383023919912, 89.37288894499989, 67.05165238739983, 28.438528548600516]\n",
     "output_type": "stream"
    }
   ]
  },
  {
   "cell_type": "code",
   "source": [
    "train_x = train.iloc[:, [2]].to_numpy()\n",
    "X = np.hstack([np.ones([train.shape[0], 1]), train_x])\n",
    "y = train.iloc[:, 1].to_numpy()\n",
    "print(X)\n"
   ],
   "metadata": {
    "cell_id": "30290bab80d14e30a05b82045546e151",
    "tags": [],
    "deepnote_to_be_reexecuted": false,
    "source_hash": "f508b5dd",
    "execution_start": 1651340732397,
    "execution_millis": 158,
    "deepnote_cell_type": "code",
    "deepnote_cell_height": 773,
    "pycharm": {
     "name": "#%%\n"
    }
   },
   "outputs": [
    {
     "name": "stdout",
     "text": "[[  1.   110.2 ]\n [  1.   111.75]\n [  1.   112.95]\n [  1.   113.93]\n [  1.   115.08]\n [  1.   116.19]\n [  1.   117.76]\n [  1.   119.89]\n [  1.   121.31]\n [  1.   122.37]\n [  1.   123.64]\n [  1.   124.72]\n [  1.   125.33]\n [  1.   126.05]\n [  1.   126.22]\n [  1.   126.37]\n [  1.   126.54]\n [  1.   127.18]\n [  1.   128.38]\n [  1.   129.72]\n [  1.   131.07]\n [  1.   131.88]\n [  1.   132.4 ]\n [  1.   132.64]\n [  1.   133.11]\n [  1.   133.38]\n [  1.   133.48]\n [  1.   134.09]\n [  1.   134.29]\n [  1.   134.36]\n [  1.   134.26]\n [  1.   133.48]\n [  1.   133.72]\n [  1.   135.22]\n [  1.   136.64]\n [  1.   138.48]\n [  1.   140.35]\n [  1.   141.75]\n [  1.   142.23]\n [  1.   141.2 ]\n [  1.   140.83]\n [  1.   140.83]\n [  1.   142.  ]\n [  1.   141.98]\n [  1.   142.85]\n [  1.   143.88]\n [  1.   144.9 ]\n [  1.   146.18]\n [  1.   147.18]\n [  1.   147.95]\n [  1.   147.9 ]\n [  1.   148.93]\n [  1.   150.45]\n [  1.   151.93]\n [  1.   153.38]\n [  1.   154.8 ]\n [  1.   155.85]\n [  1.   157.2 ]\n [  1.   159.75]\n [  1.   161.63]\n [  1.   162.9 ]\n [  1.   163.9 ]\n [  1.   166.05]\n [  1.   169.1 ]\n [  1.   171.95]\n [  1.   172.98]\n [  1.   172.8 ]\n [  1.   173.33]\n [  1.   175.25]\n [  1.   178.1 ]\n [  1.   181.93]\n [  1.   184.73]\n [  1.   187.15]\n [  1.   190.63]\n [  1.   194.3 ]\n [  1.   198.55]\n [  1.   201.73]\n [  1.   203.18]\n [  1.   204.18]\n [  1.   206.1 ]\n [  1.   207.9 ]\n [  1.   209.78]\n [  1.   212.78]\n [  1.   216.08]\n [  1.   220.28]\n [  1.   225.25]\n [  1.   228.45]\n [  1.   230.7 ]\n [  1.   235.6 ]\n [  1.   239.38]\n [  1.   244.55]\n [  1.   250.7 ]\n [  1.   254.8 ]\n [  1.   258.4 ]\n [  1.   261.03]\n [  1.   264.68]\n [  1.   268.77]\n [  1.   271.23]\n [  1.   273.73]\n [  1.   276.73]\n [  1.   278.75]\n [  1.   283.8 ]\n [  1.   288.13]\n [  1.   290.88]\n [  1.   295.18]\n [  1.   299.53]\n [  1.   303.35]\n [  1.   309.35]\n [  1.   316.55]\n [  1.   321.8 ]\n [  1.   327.6 ]\n [  1.   334.8 ]\n [  1.   341.13]\n [  1.   348.7 ]\n [  1.   335.45]\n [  1.   361.38]\n [  1.   367.08]\n [  1.   376.1 ]\n [  1.   384.58]\n [  1.   388.38]\n [  1.   394.3 ]\n [  1.   390.  ]\n [  1.   405.5 ]\n [  1.   416.1 ]]\n",
     "output_type": "stream"
    }
   ],
   "execution_count": 6
  },
  {
   "cell_type": "code",
   "source": [
    "print(cca_opt_basil(mns,df_mns,[1,1],1e-8))\n",
    "beta_e = [-628.79695154,    7.86129104]\n",
    "\n",
    "\n"
   ],
   "metadata": {
    "cell_id": "9b5cae0a0467490ebad1f97bf9eec9b5",
    "tags": [],
    "deepnote_to_be_reexecuted": false,
    "source_hash": "1f3650d6",
    "execution_start": 1651340825979,
    "execution_millis": 7,
    "owner_user_id": "2ffdade2-371b-4347-b173-906a797ea273",
    "deepnote_cell_type": "code",
    "deepnote_cell_height": 186.375,
    "deepnote_output_heights": [
     null,
     251.4375
    ],
    "pycharm": {
     "name": "#%%\n"
    }
   },
   "outputs": [
    {
     "name": "stderr",
     "text": "  0%|          | 8/10000 [00:00<00:01, 9264.06it/s](array([-628.79695154,    7.86129104]), 9)\n\n",
     "output_type": "stream"
    }
   ],
   "execution_count": 11
  },
  {
   "cell_type": "markdown",
   "source": [
    "<a style='text-decoration:none;line-height:16px;display:flex;color:#5B5B62;padding:10px;justify-content:end;' href='https://deepnote.com?utm_source=created-in-deepnote-cell&projectId=c876a9c3-8d90-46cc-9c0c-98291fab2bc5' target=\"_blank\">\n",
    "<img alt='Created in deepnote.com' style='display:inline;max-height:16px;margin:0px;margin-right:7.5px;' src='data:image/svg+xml;base64,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' > </img>\n",
    "Created in <span style='font-weight:600;margin-left:4px;'>Deepnote</span></a>"
   ],
   "metadata": {
    "tags": [],
    "created_in_deepnote_cell": true,
    "deepnote_cell_type": "markdown",
    "pycharm": {
     "name": "#%% md\n"
    }
   }
  }
 ],
 "nbformat": 4,
 "nbformat_minor": 2,
 "metadata": {
  "orig_nbformat": 2,
  "deepnote": {},
  "deepnote_notebook_id": "75be7d07-7171-4528-9dbe-1337cd30dfbc",
  "deepnote_execution_queue": []
 }
}